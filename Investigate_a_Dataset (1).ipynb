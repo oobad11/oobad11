{
 "cells": [
  {
   "cell_type": "markdown",
   "metadata": {},
   "source": [
    "> **Tip**: Welcome to the Investigate a Dataset project! You will find tips in quoted sections like this to help organize your approach to your investigation. Once you complete this project, remove these **Tip** sections from your report before submission. First things first, you might want to double-click this Markdown cell and change the title so that it reflects your dataset and investigation.\n",
    "\n",
    "# Project: Investigate a Dataset - [TMDb_movie_data]\n",
    "\n",
    "## Table of Contents\n",
    "<ul>\n",
    "<li><a href=\"#intro\">Introduction</a></li>\n",
    "<li><a href=\"#wrangling\">Data Wrangling</a></li>\n",
    "<li><a href=\"#eda\">Exploratory Data Analysis</a></li>\n",
    "<li><a href=\"#conclusions\">Conclusions</a></li>\n",
    "</ul>"
   ]
  },
  {
   "cell_type": "markdown",
   "metadata": {},
   "source": [
    "<a id='intro'></a>\n",
    "## Introduction\n",
    "\n",
    "### Dataset Description \n",
    "\n",
    "This analysis looks into the relations that genre, release year, and revenue (adjusted for inflation) have with a movies' overall rating and profit based on the data from The Movie Database (TMDb), which includes information, classifications, and statistics about nearly 11,000 movies.\n",
    "\n",
    "\n",
    "### Question(s) for Analysis\n",
    "1. Which genres are most popular from year to year?\n",
    "2. What kinds of properties are associated with movies that have high revenues?\n"
   ]
  },
  {
   "cell_type": "code",
   "execution_count": 1,
   "metadata": {},
   "outputs": [],
   "source": [
    "# Begin by importing the libraries for needed for analysis and set inline plotting.\n",
    "import pandas as pd\n",
    "import numpy as np\n",
    "import matplotlib.pyplot as plt\n",
    "import seaborn as sns\n",
    "%matplotlib inline\n",
    "import ast\n"
   ]
  },
  {
   "cell_type": "code",
   "execution_count": 40,
   "metadata": {},
   "outputs": [
    {
     "name": "stdout",
     "output_type": "stream",
     "text": [
      "Collecting pandas==0.25.0\n",
      "\u001b[?25l  Downloading https://files.pythonhosted.org/packages/1d/9a/7eb9952f4b4d73fbd75ad1d5d6112f407e695957444cb695cbb3cdab918a/pandas-0.25.0-cp36-cp36m-manylinux1_x86_64.whl (10.5MB)\n",
      "\u001b[K    100% |████████████████████████████████| 10.5MB 3.5MB/s eta 0:00:01   31% |██████████                      | 3.3MB 27.7MB/s eta 0:00:01    70% |██████████████████████▌         | 7.4MB 28.8MB/s eta 0:00:01\n",
      "\u001b[?25hRequirement already satisfied, skipping upgrade: pytz>=2017.2 in /opt/conda/lib/python3.6/site-packages (from pandas==0.25.0) (2017.3)\n",
      "Requirement already satisfied, skipping upgrade: python-dateutil>=2.6.1 in /opt/conda/lib/python3.6/site-packages (from pandas==0.25.0) (2.6.1)\n",
      "Collecting numpy>=1.13.3 (from pandas==0.25.0)\n",
      "\u001b[?25l  Downloading https://files.pythonhosted.org/packages/45/b2/6c7545bb7a38754d63048c7696804a0d947328125d81bf12beaa692c3ae3/numpy-1.19.5-cp36-cp36m-manylinux1_x86_64.whl (13.4MB)\n",
      "\u001b[K    100% |████████████████████████████████| 13.4MB 2.8MB/s eta 0:00:01   14% |████▋                           | 1.9MB 28.4MB/s eta 0:00:01    24% |███████▊                        | 3.2MB 27.6MB/s eta 0:00:01    33% |██████████▉                     | 4.5MB 26.6MB/s eta 0:00:01    62% |████████████████████            | 8.4MB 26.6MB/s eta 0:00:01    81% |██████████████████████████      | 10.9MB 26.4MB/s eta 0:00:01\n",
      "\u001b[?25hRequirement already satisfied, skipping upgrade: six>=1.5 in /opt/conda/lib/python3.6/site-packages (from python-dateutil>=2.6.1->pandas==0.25.0) (1.11.0)\n",
      "\u001b[31mtensorflow 1.3.0 requires tensorflow-tensorboard<0.2.0,>=0.1.0, which is not installed.\u001b[0m\n",
      "Installing collected packages: numpy, pandas\n",
      "  Found existing installation: numpy 1.12.1\n",
      "    Uninstalling numpy-1.12.1:\n",
      "      Successfully uninstalled numpy-1.12.1\n",
      "  Found existing installation: pandas 0.23.3\n",
      "    Uninstalling pandas-0.23.3:\n",
      "      Successfully uninstalled pandas-0.23.3\n",
      "Successfully installed numpy-1.19.5 pandas-0.25.0\n"
     ]
    }
   ],
   "source": [
    "# Upgrade pandas to use dataframe.explode() function. \n",
    "!pip install --upgrade pandas==0.25.0"
   ]
  },
  {
   "cell_type": "markdown",
   "metadata": {},
   "source": [
    "<a id='wrangling'></a>\n",
    "## Data Wrangling\n",
    "\n",
    "\n",
    "\n",
    "### General Properties\n",
    "Read the .csv file into a pandas dataframe.\n"
   ]
  },
  {
   "cell_type": "code",
   "execution_count": 2,
   "metadata": {},
   "outputs": [],
   "source": [
    "df_imdb = pd.read_csv('tmdb-movies.csv')"
   ]
  },
  {
   "cell_type": "code",
   "execution_count": 3,
   "metadata": {},
   "outputs": [
    {
     "data": {
      "text/plain": [
       "(10866, 21)"
      ]
     },
     "execution_count": 3,
     "metadata": {},
     "output_type": "execute_result"
    }
   ],
   "source": [
    "df_imdb.shape"
   ]
  },
  {
   "cell_type": "code",
   "execution_count": 4,
   "metadata": {},
   "outputs": [
    {
     "data": {
      "text/html": [
       "<div>\n",
       "<style scoped>\n",
       "    .dataframe tbody tr th:only-of-type {\n",
       "        vertical-align: middle;\n",
       "    }\n",
       "\n",
       "    .dataframe tbody tr th {\n",
       "        vertical-align: top;\n",
       "    }\n",
       "\n",
       "    .dataframe thead th {\n",
       "        text-align: right;\n",
       "    }\n",
       "</style>\n",
       "<table border=\"1\" class=\"dataframe\">\n",
       "  <thead>\n",
       "    <tr style=\"text-align: right;\">\n",
       "      <th></th>\n",
       "      <th>id</th>\n",
       "      <th>imdb_id</th>\n",
       "      <th>popularity</th>\n",
       "      <th>budget</th>\n",
       "      <th>revenue</th>\n",
       "      <th>original_title</th>\n",
       "      <th>cast</th>\n",
       "      <th>homepage</th>\n",
       "      <th>director</th>\n",
       "      <th>tagline</th>\n",
       "      <th>...</th>\n",
       "      <th>overview</th>\n",
       "      <th>runtime</th>\n",
       "      <th>genres</th>\n",
       "      <th>production_companies</th>\n",
       "      <th>release_date</th>\n",
       "      <th>vote_count</th>\n",
       "      <th>vote_average</th>\n",
       "      <th>release_year</th>\n",
       "      <th>budget_adj</th>\n",
       "      <th>revenue_adj</th>\n",
       "    </tr>\n",
       "  </thead>\n",
       "  <tbody>\n",
       "    <tr>\n",
       "      <th>0</th>\n",
       "      <td>135397</td>\n",
       "      <td>tt0369610</td>\n",
       "      <td>32.985763</td>\n",
       "      <td>150000000</td>\n",
       "      <td>1513528810</td>\n",
       "      <td>Jurassic World</td>\n",
       "      <td>Chris Pratt|Bryce Dallas Howard|Irrfan Khan|Vi...</td>\n",
       "      <td>http://www.jurassicworld.com/</td>\n",
       "      <td>Colin Trevorrow</td>\n",
       "      <td>The park is open.</td>\n",
       "      <td>...</td>\n",
       "      <td>Twenty-two years after the events of Jurassic ...</td>\n",
       "      <td>124</td>\n",
       "      <td>Action|Adventure|Science Fiction|Thriller</td>\n",
       "      <td>Universal Studios|Amblin Entertainment|Legenda...</td>\n",
       "      <td>6/9/15</td>\n",
       "      <td>5562</td>\n",
       "      <td>6.5</td>\n",
       "      <td>2015</td>\n",
       "      <td>1.379999e+08</td>\n",
       "      <td>1.392446e+09</td>\n",
       "    </tr>\n",
       "    <tr>\n",
       "      <th>1</th>\n",
       "      <td>76341</td>\n",
       "      <td>tt1392190</td>\n",
       "      <td>28.419936</td>\n",
       "      <td>150000000</td>\n",
       "      <td>378436354</td>\n",
       "      <td>Mad Max: Fury Road</td>\n",
       "      <td>Tom Hardy|Charlize Theron|Hugh Keays-Byrne|Nic...</td>\n",
       "      <td>http://www.madmaxmovie.com/</td>\n",
       "      <td>George Miller</td>\n",
       "      <td>What a Lovely Day.</td>\n",
       "      <td>...</td>\n",
       "      <td>An apocalyptic story set in the furthest reach...</td>\n",
       "      <td>120</td>\n",
       "      <td>Action|Adventure|Science Fiction|Thriller</td>\n",
       "      <td>Village Roadshow Pictures|Kennedy Miller Produ...</td>\n",
       "      <td>5/13/15</td>\n",
       "      <td>6185</td>\n",
       "      <td>7.1</td>\n",
       "      <td>2015</td>\n",
       "      <td>1.379999e+08</td>\n",
       "      <td>3.481613e+08</td>\n",
       "    </tr>\n",
       "    <tr>\n",
       "      <th>2</th>\n",
       "      <td>262500</td>\n",
       "      <td>tt2908446</td>\n",
       "      <td>13.112507</td>\n",
       "      <td>110000000</td>\n",
       "      <td>295238201</td>\n",
       "      <td>Insurgent</td>\n",
       "      <td>Shailene Woodley|Theo James|Kate Winslet|Ansel...</td>\n",
       "      <td>http://www.thedivergentseries.movie/#insurgent</td>\n",
       "      <td>Robert Schwentke</td>\n",
       "      <td>One Choice Can Destroy You</td>\n",
       "      <td>...</td>\n",
       "      <td>Beatrice Prior must confront her inner demons ...</td>\n",
       "      <td>119</td>\n",
       "      <td>Adventure|Science Fiction|Thriller</td>\n",
       "      <td>Summit Entertainment|Mandeville Films|Red Wago...</td>\n",
       "      <td>3/18/15</td>\n",
       "      <td>2480</td>\n",
       "      <td>6.3</td>\n",
       "      <td>2015</td>\n",
       "      <td>1.012000e+08</td>\n",
       "      <td>2.716190e+08</td>\n",
       "    </tr>\n",
       "    <tr>\n",
       "      <th>3</th>\n",
       "      <td>140607</td>\n",
       "      <td>tt2488496</td>\n",
       "      <td>11.173104</td>\n",
       "      <td>200000000</td>\n",
       "      <td>2068178225</td>\n",
       "      <td>Star Wars: The Force Awakens</td>\n",
       "      <td>Harrison Ford|Mark Hamill|Carrie Fisher|Adam D...</td>\n",
       "      <td>http://www.starwars.com/films/star-wars-episod...</td>\n",
       "      <td>J.J. Abrams</td>\n",
       "      <td>Every generation has a story.</td>\n",
       "      <td>...</td>\n",
       "      <td>Thirty years after defeating the Galactic Empi...</td>\n",
       "      <td>136</td>\n",
       "      <td>Action|Adventure|Science Fiction|Fantasy</td>\n",
       "      <td>Lucasfilm|Truenorth Productions|Bad Robot</td>\n",
       "      <td>12/15/15</td>\n",
       "      <td>5292</td>\n",
       "      <td>7.5</td>\n",
       "      <td>2015</td>\n",
       "      <td>1.839999e+08</td>\n",
       "      <td>1.902723e+09</td>\n",
       "    </tr>\n",
       "    <tr>\n",
       "      <th>4</th>\n",
       "      <td>168259</td>\n",
       "      <td>tt2820852</td>\n",
       "      <td>9.335014</td>\n",
       "      <td>190000000</td>\n",
       "      <td>1506249360</td>\n",
       "      <td>Furious 7</td>\n",
       "      <td>Vin Diesel|Paul Walker|Jason Statham|Michelle ...</td>\n",
       "      <td>http://www.furious7.com/</td>\n",
       "      <td>James Wan</td>\n",
       "      <td>Vengeance Hits Home</td>\n",
       "      <td>...</td>\n",
       "      <td>Deckard Shaw seeks revenge against Dominic Tor...</td>\n",
       "      <td>137</td>\n",
       "      <td>Action|Crime|Thriller</td>\n",
       "      <td>Universal Pictures|Original Film|Media Rights ...</td>\n",
       "      <td>4/1/15</td>\n",
       "      <td>2947</td>\n",
       "      <td>7.3</td>\n",
       "      <td>2015</td>\n",
       "      <td>1.747999e+08</td>\n",
       "      <td>1.385749e+09</td>\n",
       "    </tr>\n",
       "  </tbody>\n",
       "</table>\n",
       "<p>5 rows × 21 columns</p>\n",
       "</div>"
      ],
      "text/plain": [
       "       id    imdb_id  popularity     budget     revenue  \\\n",
       "0  135397  tt0369610   32.985763  150000000  1513528810   \n",
       "1   76341  tt1392190   28.419936  150000000   378436354   \n",
       "2  262500  tt2908446   13.112507  110000000   295238201   \n",
       "3  140607  tt2488496   11.173104  200000000  2068178225   \n",
       "4  168259  tt2820852    9.335014  190000000  1506249360   \n",
       "\n",
       "                 original_title  \\\n",
       "0                Jurassic World   \n",
       "1            Mad Max: Fury Road   \n",
       "2                     Insurgent   \n",
       "3  Star Wars: The Force Awakens   \n",
       "4                     Furious 7   \n",
       "\n",
       "                                                cast  \\\n",
       "0  Chris Pratt|Bryce Dallas Howard|Irrfan Khan|Vi...   \n",
       "1  Tom Hardy|Charlize Theron|Hugh Keays-Byrne|Nic...   \n",
       "2  Shailene Woodley|Theo James|Kate Winslet|Ansel...   \n",
       "3  Harrison Ford|Mark Hamill|Carrie Fisher|Adam D...   \n",
       "4  Vin Diesel|Paul Walker|Jason Statham|Michelle ...   \n",
       "\n",
       "                                            homepage          director  \\\n",
       "0                      http://www.jurassicworld.com/   Colin Trevorrow   \n",
       "1                        http://www.madmaxmovie.com/     George Miller   \n",
       "2     http://www.thedivergentseries.movie/#insurgent  Robert Schwentke   \n",
       "3  http://www.starwars.com/films/star-wars-episod...       J.J. Abrams   \n",
       "4                           http://www.furious7.com/         James Wan   \n",
       "\n",
       "                         tagline      ...       \\\n",
       "0              The park is open.      ...        \n",
       "1             What a Lovely Day.      ...        \n",
       "2     One Choice Can Destroy You      ...        \n",
       "3  Every generation has a story.      ...        \n",
       "4            Vengeance Hits Home      ...        \n",
       "\n",
       "                                            overview runtime  \\\n",
       "0  Twenty-two years after the events of Jurassic ...     124   \n",
       "1  An apocalyptic story set in the furthest reach...     120   \n",
       "2  Beatrice Prior must confront her inner demons ...     119   \n",
       "3  Thirty years after defeating the Galactic Empi...     136   \n",
       "4  Deckard Shaw seeks revenge against Dominic Tor...     137   \n",
       "\n",
       "                                      genres  \\\n",
       "0  Action|Adventure|Science Fiction|Thriller   \n",
       "1  Action|Adventure|Science Fiction|Thriller   \n",
       "2         Adventure|Science Fiction|Thriller   \n",
       "3   Action|Adventure|Science Fiction|Fantasy   \n",
       "4                      Action|Crime|Thriller   \n",
       "\n",
       "                                production_companies release_date vote_count  \\\n",
       "0  Universal Studios|Amblin Entertainment|Legenda...       6/9/15       5562   \n",
       "1  Village Roadshow Pictures|Kennedy Miller Produ...      5/13/15       6185   \n",
       "2  Summit Entertainment|Mandeville Films|Red Wago...      3/18/15       2480   \n",
       "3          Lucasfilm|Truenorth Productions|Bad Robot     12/15/15       5292   \n",
       "4  Universal Pictures|Original Film|Media Rights ...       4/1/15       2947   \n",
       "\n",
       "   vote_average  release_year    budget_adj   revenue_adj  \n",
       "0           6.5          2015  1.379999e+08  1.392446e+09  \n",
       "1           7.1          2015  1.379999e+08  3.481613e+08  \n",
       "2           6.3          2015  1.012000e+08  2.716190e+08  \n",
       "3           7.5          2015  1.839999e+08  1.902723e+09  \n",
       "4           7.3          2015  1.747999e+08  1.385749e+09  \n",
       "\n",
       "[5 rows x 21 columns]"
      ]
     },
     "execution_count": 4,
     "metadata": {},
     "output_type": "execute_result"
    }
   ],
   "source": [
    "df_imdb.head()"
   ]
  },
  {
   "cell_type": "code",
   "execution_count": 5,
   "metadata": {},
   "outputs": [
    {
     "data": {
      "text/plain": [
       "1"
      ]
     },
     "execution_count": 5,
     "metadata": {},
     "output_type": "execute_result"
    }
   ],
   "source": [
    "# Check for and drop any duplicated rows.\n",
    "df_imdb.duplicated().sum()"
   ]
  },
  {
   "cell_type": "code",
   "execution_count": 6,
   "metadata": {},
   "outputs": [
    {
     "data": {
      "text/plain": [
       "id                        int64\n",
       "imdb_id                  object\n",
       "popularity              float64\n",
       "budget                    int64\n",
       "revenue                   int64\n",
       "original_title           object\n",
       "cast                     object\n",
       "homepage                 object\n",
       "director                 object\n",
       "tagline                  object\n",
       "keywords                 object\n",
       "overview                 object\n",
       "runtime                   int64\n",
       "genres                   object\n",
       "production_companies     object\n",
       "release_date             object\n",
       "vote_count                int64\n",
       "vote_average            float64\n",
       "release_year              int64\n",
       "budget_adj              float64\n",
       "revenue_adj             float64\n",
       "dtype: object"
      ]
     },
     "execution_count": 6,
     "metadata": {},
     "output_type": "execute_result"
    }
   ],
   "source": [
    "df_imdb.dtypes"
   ]
  },
  {
   "cell_type": "code",
   "execution_count": 7,
   "metadata": {},
   "outputs": [
    {
     "data": {
      "text/plain": [
       "id                         0\n",
       "imdb_id                   10\n",
       "popularity                 0\n",
       "budget                     0\n",
       "revenue                    0\n",
       "original_title             0\n",
       "cast                      76\n",
       "homepage                7930\n",
       "director                  44\n",
       "tagline                 2824\n",
       "keywords                1493\n",
       "overview                   4\n",
       "runtime                    0\n",
       "genres                    23\n",
       "production_companies    1030\n",
       "release_date               0\n",
       "vote_count                 0\n",
       "vote_average               0\n",
       "release_year               0\n",
       "budget_adj                 0\n",
       "revenue_adj                0\n",
       "dtype: int64"
      ]
     },
     "execution_count": 7,
     "metadata": {},
     "output_type": "execute_result"
    }
   ],
   "source": [
    "# # Check for and drop any null cells.\n",
    "df_imdb.isnull().sum()"
   ]
  },
  {
   "cell_type": "markdown",
   "metadata": {},
   "source": [
    "\n",
    "### Data Cleaning\n",
    "\n",
    "Drop the columns that are not useful for this analysis. Budget may help account for higher ratings, and revenue allows us to calculate profit. The release_year, genres, budget_adj, and vote_average columns are the main columns of information we need to answer the questions posed.\n",
    "\n",
    "\n",
    " "
   ]
  },
  {
   "cell_type": "code",
   "execution_count": 8,
   "metadata": {},
   "outputs": [],
   "source": [
    "df_imdb.drop_duplicates(inplace=True)"
   ]
  },
  {
   "cell_type": "code",
   "execution_count": 9,
   "metadata": {},
   "outputs": [],
   "source": [
    "df_imdb.drop(['id', 'imdb_id', 'cast', 'homepage', 'director', 'tagline', 'keywords', 'overview', 'runtime', 'production_companies', 'release_date', 'vote_count'], axis = 1, inplace = True)"
   ]
  },
  {
   "cell_type": "code",
   "execution_count": 10,
   "metadata": {},
   "outputs": [
    {
     "data": {
      "text/html": [
       "<div>\n",
       "<style scoped>\n",
       "    .dataframe tbody tr th:only-of-type {\n",
       "        vertical-align: middle;\n",
       "    }\n",
       "\n",
       "    .dataframe tbody tr th {\n",
       "        vertical-align: top;\n",
       "    }\n",
       "\n",
       "    .dataframe thead th {\n",
       "        text-align: right;\n",
       "    }\n",
       "</style>\n",
       "<table border=\"1\" class=\"dataframe\">\n",
       "  <thead>\n",
       "    <tr style=\"text-align: right;\">\n",
       "      <th></th>\n",
       "      <th>popularity</th>\n",
       "      <th>budget</th>\n",
       "      <th>revenue</th>\n",
       "      <th>original_title</th>\n",
       "      <th>genres</th>\n",
       "      <th>vote_average</th>\n",
       "      <th>release_year</th>\n",
       "      <th>budget_adj</th>\n",
       "      <th>revenue_adj</th>\n",
       "    </tr>\n",
       "  </thead>\n",
       "  <tbody>\n",
       "    <tr>\n",
       "      <th>0</th>\n",
       "      <td>32.985763</td>\n",
       "      <td>150000000</td>\n",
       "      <td>1513528810</td>\n",
       "      <td>Jurassic World</td>\n",
       "      <td>Action|Adventure|Science Fiction|Thriller</td>\n",
       "      <td>6.5</td>\n",
       "      <td>2015</td>\n",
       "      <td>1.379999e+08</td>\n",
       "      <td>1.392446e+09</td>\n",
       "    </tr>\n",
       "    <tr>\n",
       "      <th>1</th>\n",
       "      <td>28.419936</td>\n",
       "      <td>150000000</td>\n",
       "      <td>378436354</td>\n",
       "      <td>Mad Max: Fury Road</td>\n",
       "      <td>Action|Adventure|Science Fiction|Thriller</td>\n",
       "      <td>7.1</td>\n",
       "      <td>2015</td>\n",
       "      <td>1.379999e+08</td>\n",
       "      <td>3.481613e+08</td>\n",
       "    </tr>\n",
       "    <tr>\n",
       "      <th>2</th>\n",
       "      <td>13.112507</td>\n",
       "      <td>110000000</td>\n",
       "      <td>295238201</td>\n",
       "      <td>Insurgent</td>\n",
       "      <td>Adventure|Science Fiction|Thriller</td>\n",
       "      <td>6.3</td>\n",
       "      <td>2015</td>\n",
       "      <td>1.012000e+08</td>\n",
       "      <td>2.716190e+08</td>\n",
       "    </tr>\n",
       "    <tr>\n",
       "      <th>3</th>\n",
       "      <td>11.173104</td>\n",
       "      <td>200000000</td>\n",
       "      <td>2068178225</td>\n",
       "      <td>Star Wars: The Force Awakens</td>\n",
       "      <td>Action|Adventure|Science Fiction|Fantasy</td>\n",
       "      <td>7.5</td>\n",
       "      <td>2015</td>\n",
       "      <td>1.839999e+08</td>\n",
       "      <td>1.902723e+09</td>\n",
       "    </tr>\n",
       "    <tr>\n",
       "      <th>4</th>\n",
       "      <td>9.335014</td>\n",
       "      <td>190000000</td>\n",
       "      <td>1506249360</td>\n",
       "      <td>Furious 7</td>\n",
       "      <td>Action|Crime|Thriller</td>\n",
       "      <td>7.3</td>\n",
       "      <td>2015</td>\n",
       "      <td>1.747999e+08</td>\n",
       "      <td>1.385749e+09</td>\n",
       "    </tr>\n",
       "  </tbody>\n",
       "</table>\n",
       "</div>"
      ],
      "text/plain": [
       "   popularity     budget     revenue                original_title  \\\n",
       "0   32.985763  150000000  1513528810                Jurassic World   \n",
       "1   28.419936  150000000   378436354            Mad Max: Fury Road   \n",
       "2   13.112507  110000000   295238201                     Insurgent   \n",
       "3   11.173104  200000000  2068178225  Star Wars: The Force Awakens   \n",
       "4    9.335014  190000000  1506249360                     Furious 7   \n",
       "\n",
       "                                      genres  vote_average  release_year  \\\n",
       "0  Action|Adventure|Science Fiction|Thriller           6.5          2015   \n",
       "1  Action|Adventure|Science Fiction|Thriller           7.1          2015   \n",
       "2         Adventure|Science Fiction|Thriller           6.3          2015   \n",
       "3   Action|Adventure|Science Fiction|Fantasy           7.5          2015   \n",
       "4                      Action|Crime|Thriller           7.3          2015   \n",
       "\n",
       "     budget_adj   revenue_adj  \n",
       "0  1.379999e+08  1.392446e+09  \n",
       "1  1.379999e+08  3.481613e+08  \n",
       "2  1.012000e+08  2.716190e+08  \n",
       "3  1.839999e+08  1.902723e+09  \n",
       "4  1.747999e+08  1.385749e+09  "
      ]
     },
     "execution_count": 10,
     "metadata": {},
     "output_type": "execute_result"
    }
   ],
   "source": [
    "df_imdb.head()"
   ]
  },
  {
   "cell_type": "code",
   "execution_count": 11,
   "metadata": {},
   "outputs": [
    {
     "data": {
      "text/plain": [
       "(10865, 9)"
      ]
     },
     "execution_count": 11,
     "metadata": {},
     "output_type": "execute_result"
    }
   ],
   "source": [
    "df_imdb.shape"
   ]
  },
  {
   "cell_type": "code",
   "execution_count": 12,
   "metadata": {},
   "outputs": [],
   "source": [
    "df_imdb.dropna(inplace=True)"
   ]
  },
  {
   "cell_type": "code",
   "execution_count": 13,
   "metadata": {},
   "outputs": [
    {
     "data": {
      "text/plain": [
       "(10842, 9)"
      ]
     },
     "execution_count": 13,
     "metadata": {},
     "output_type": "execute_result"
    }
   ],
   "source": [
    "df_imdb.shape"
   ]
  },
  {
   "cell_type": "code",
   "execution_count": 14,
   "metadata": {},
   "outputs": [
    {
     "data": {
      "text/plain": [
       "popularity        float64\n",
       "budget              int64\n",
       "revenue             int64\n",
       "original_title     object\n",
       "genres             object\n",
       "vote_average      float64\n",
       "release_year        int64\n",
       "budget_adj        float64\n",
       "revenue_adj       float64\n",
       "dtype: object"
      ]
     },
     "execution_count": 14,
     "metadata": {},
     "output_type": "execute_result"
    }
   ],
   "source": [
    "df_imdb.dtypes"
   ]
  },
  {
   "cell_type": "markdown",
   "metadata": {},
   "source": [
    "# Visualize the data by column to examine the data.\n"
   ]
  },
  {
   "cell_type": "code",
   "execution_count": 15,
   "metadata": {},
   "outputs": [
    {
     "data": {
      "text/plain": [
       "array([[<matplotlib.axes._subplots.AxesSubplot object at 0x7fd66aeee908>,\n",
       "        <matplotlib.axes._subplots.AxesSubplot object at 0x7fd66aed3b38>,\n",
       "        <matplotlib.axes._subplots.AxesSubplot object at 0x7fd66ae8cba8>],\n",
       "       [<matplotlib.axes._subplots.AxesSubplot object at 0x7fd66ae27f28>,\n",
       "        <matplotlib.axes._subplots.AxesSubplot object at 0x7fd66adf7b38>,\n",
       "        <matplotlib.axes._subplots.AxesSubplot object at 0x7fd66adf7b70>],\n",
       "       [<matplotlib.axes._subplots.AxesSubplot object at 0x7fd66ad730b8>,\n",
       "        <matplotlib.axes._subplots.AxesSubplot object at 0x7fd66ad2d0b8>,\n",
       "        <matplotlib.axes._subplots.AxesSubplot object at 0x7fd66ad52518>]], dtype=object)"
      ]
     },
     "execution_count": 15,
     "metadata": {},
     "output_type": "execute_result"
    },
    {
     "data": {
      "image/png": "[encoded data removed]",
      "text/plain": [
       "<matplotlib.figure.Figure at 0x7fd66aeee2b0>"
      ]
     },
     "metadata": {
      "needs_background": "light"
     },
     "output_type": "display_data"
    }
   ],
   "source": [
    "df_imdb.hist(figsize=(8, 8))"
   ]
  },
  {
   "cell_type": "markdown",
   "metadata": {},
   "source": [
    "<a id='eda'></a>\n",
    "## Exploratory Data Analysis\n",
    "\n",
    "Certain columns, like ‘cast’ and ‘genres’, contain multiple values separated by pipe (|) characters.\n",
    "\n",
    "To explore the genres, we need to divide the movies into groups based on genres. Since each movie can have multiple genres, the simplest way to analyze genre information is to include a movie in the group for each genre it has, even if that means that a movie is included in multiple dataframes.\n",
    "\n",
    "This does limit the report because it will not look at every combination of genre as separate groups. \n",
    ".nunique() shows us that there are 2,039 different combinations of genres in this dataset;\n",
    "\n",
    "### Research Question 1 (Which genres are most popular from year to year? )"
   ]
  },
  {
   "cell_type": "code",
   "execution_count": 16,
   "metadata": {},
   "outputs": [
    {
     "data": {
      "text/plain": [
       "2039"
      ]
     },
     "execution_count": 16,
     "metadata": {},
     "output_type": "execute_result"
    }
   ],
   "source": [
    "df_imdb.genres.nunique()"
   ]
  },
  {
   "cell_type": "code",
   "execution_count": 17,
   "metadata": {},
   "outputs": [
    {
     "data": {
      "text/plain": [
       "array([2015, 2014, 1977, 2009, 2010, 1999, 2001, 2008, 2011, 2002, 1994,\n",
       "       2012, 2003, 1997, 2013, 1985, 2005, 2006, 2004, 1972, 1980, 2007,\n",
       "       1979, 1984, 1983, 1995, 1992, 1981, 1996, 2000, 1982, 1998, 1989,\n",
       "       1991, 1988, 1987, 1968, 1974, 1975, 1962, 1964, 1971, 1990, 1961,\n",
       "       1960, 1976, 1993, 1967, 1963, 1986, 1973, 1970, 1965, 1969, 1978,\n",
       "       1966])"
      ]
     },
     "execution_count": 17,
     "metadata": {},
     "output_type": "execute_result"
    }
   ],
   "source": [
    "df_imdb.release_year.unique()"
   ]
  },
  {
   "cell_type": "markdown",
   "metadata": {},
   "source": [
    "Instead, we will create separate dataframes for each individual genre, including a movie if the genre is included in its list of genres. To begin this, we need find each individual genre that exists in this dataset.\n",
    "\n",
    "We start by creating a NumPy array out of the genre column of the movie dataframe."
   ]
  },
  {
   "cell_type": "code",
   "execution_count": 18,
   "metadata": {},
   "outputs": [],
   "source": [
    "genre_array = df_imdb.genres.values\n",
    "genre_array = genre_array.astype('U')\n",
    "split_genre = np.core.defchararray.split(a = genre_array, sep = '|')"
   ]
  },
  {
   "cell_type": "markdown",
   "metadata": {},
   "source": [
    "We then split the elements of the genre array by the | delimiter and store the individual genres in a new array."
   ]
  },
  {
   "cell_type": "code",
   "execution_count": 19,
   "metadata": {},
   "outputs": [
    {
     "data": {
      "text/plain": [
       "array([['Action', 'Adventure', 'Science Fiction', 'Thriller'],\n",
       "       ['Action', 'Adventure', 'Science Fiction', 'Thriller'],\n",
       "       ['Adventure', 'Science Fiction', 'Thriller'], ...,\n",
       "       ['Mystery', 'Comedy'], ['Action', 'Comedy'], ['Horror']], dtype=object)"
      ]
     },
     "execution_count": 19,
     "metadata": {},
     "output_type": "execute_result"
    }
   ],
   "source": [
    "split_genre"
   ]
  },
  {
   "cell_type": "markdown",
   "metadata": {},
   "source": [
    "By getting a total number and the maximum length of words representing genre tags in all dataframe genre column values, we can initialize a properly sized array to utilize numpy's efficiency better."
   ]
  },
  {
   "cell_type": "code",
   "execution_count": 20,
   "metadata": {},
   "outputs": [],
   "source": [
    "total_words = 0\n",
    "max_length = 0\n",
    "\n",
    "for index, row in enumerate(split_genre):\n",
    "    for word in split_genre[index]:\n",
    "        total_words += 1\n",
    "        if len(word) > max_length:\n",
    "            max_length = len(word)"
   ]
  },
  {
   "cell_type": "markdown",
   "metadata": {},
   "source": [
    "Initialize a numpy array with the shape of 1 x the total number of words representing genres."
   ]
  },
  {
   "cell_type": "code",
   "execution_count": 21,
   "metadata": {},
   "outputs": [
    {
     "data": {
      "text/plain": [
       "(1, 26955)"
      ]
     },
     "execution_count": 21,
     "metadata": {},
     "output_type": "execute_result"
    }
   ],
   "source": [
    "combined_genre = np.empty((1, total_words), dtype = ('U' + str(max_length)))\n",
    "combined_genre.shape"
   ]
  },
  {
   "cell_type": "markdown",
   "metadata": {},
   "source": [
    "Set each element in the array"
   ]
  },
  {
   "cell_type": "code",
   "execution_count": 22,
   "metadata": {},
   "outputs": [],
   "source": [
    "count = 0\n",
    "\n",
    "for index, row in enumerate(split_genre):\n",
    "    row_list = ast.literal_eval(str(row))\n",
    "    \n",
    "    for word in row_list:\n",
    "        combined_genre[0, count] = word\n",
    "        count += 1"
   ]
  },
  {
   "cell_type": "code",
   "execution_count": 23,
   "metadata": {},
   "outputs": [
    {
     "data": {
      "text/plain": [
       "array([['Action', 'Adventure', 'Science Fiction', ..., 'Action', 'Comedy',\n",
       "        'Horror']], \n",
       "      dtype='<U15')"
      ]
     },
     "execution_count": 23,
     "metadata": {},
     "output_type": "execute_result"
    }
   ],
   "source": [
    "combined_genre"
   ]
  },
  {
   "cell_type": "markdown",
   "metadata": {},
   "source": [
    "Finally, find each individual genre in the combined_genre_array."
   ]
  },
  {
   "cell_type": "code",
   "execution_count": 24,
   "metadata": {},
   "outputs": [],
   "source": [
    "genre_list = np.unique(combined_genre)"
   ]
  },
  {
   "cell_type": "markdown",
   "metadata": {},
   "source": [
    "Now that we have a list of all of the genres in the dataset, we can create a new dataframe for each genre."
   ]
  },
  {
   "cell_type": "code",
   "execution_count": 25,
   "metadata": {},
   "outputs": [],
   "source": [
    "#_df = df.loc[df.genres.str.contains('')]\n",
    "action_df = df_imdb.loc[df_imdb.genres.str.contains('Action')]\n",
    "adventure_df = df_imdb.loc[df_imdb.genres.str.contains('Adventure')]\n",
    "animation_df = df_imdb.loc[df_imdb.genres.str.contains('Animation')]\n",
    "comedy_df = df_imdb.loc[df_imdb.genres.str.contains('Comedy')]\n",
    "crime_df = df_imdb.loc[df_imdb.genres.str.contains('Crime')]\n",
    "documentary_df = df_imdb.loc[df_imdb.genres.str.contains('Documentary')]\n",
    "drama_df = df_imdb.loc[df_imdb.genres.str.contains('Drama')]\n",
    "family_df = df_imdb.loc[df_imdb.genres.str.contains('Family')]\n",
    "fantasy_df = df_imdb.loc[df_imdb.genres.str.contains('Fantasy')]\n",
    "foreign_df = df_imdb.loc[df_imdb.genres.str.contains('Foreign')]\n",
    "history_df = df_imdb.loc[df_imdb.genres.str.contains('History')]\n",
    "horror_df = df_imdb.loc[df_imdb.genres.str.contains('Horror')]\n",
    "music_df = df_imdb.loc[df_imdb.genres.str.contains('Music')]\n",
    "mystery_df = df_imdb.loc[df_imdb.genres.str.contains('Mystery')]\n",
    "romance_df = df_imdb.loc[df_imdb.genres.str.contains('Romance')]\n",
    "science_fiction_df = df_imdb.loc[df_imdb.genres.str.contains('Science Fiction')]\n",
    "tv_movie_df = df_imdb.loc[df_imdb.genres.str.contains('TV Movie')]\n",
    "thriller_df = df_imdb.loc[df_imdb.genres.str.contains('Thriller')]\n",
    "war_df = df_imdb.loc[df_imdb.genres.str.contains('War')]\n",
    "western_df = df_imdb.loc[df_imdb.genres.str.contains('Western')]"
   ]
  },
  {
   "cell_type": "markdown",
   "metadata": {},
   "source": [
    "Let's see how many of each genre is in this dataset by getting the length of the index in each genre dataframe. Then sort the values from highest to lowest."
   ]
  },
  {
   "cell_type": "code",
   "execution_count": 26,
   "metadata": {},
   "outputs": [
    {
     "name": "stdout",
     "output_type": "stream",
     "text": [
      "[['Drama', 4760], ['Comedy', 3793], ['Thriller', 2907], ['Action', 2384], ['Romance', 1712], ['Horror', 1637], ['Adventure', 1471], ['Crime', 1354], ['Family', 1231], ['Science Fiction', 1229], ['Fantasy', 916], ['Mystery', 810], ['Animation', 699], ['Documentary', 520], ['Music', 408], ['History', 334], ['War', 270], ['Foreign', 188], ['Tv Movie', 167], ['Western', 165]]\n"
     ]
    }
   ],
   "source": [
    "genre_count = []\n",
    "for genre in genre_list:\n",
    "    temp = genre.lower() + \"_df\"\n",
    "    temp = temp.replace(\" \", \"_\")\n",
    "    number = len(eval(temp + '.index'))\n",
    "    \n",
    "    genre_count.append([temp[:-3], number])\n",
    "    \n",
    "genre_count.sort(key = lambda x:x[1], reverse = True)\n",
    "\n",
    "for index, genre in enumerate(genre_count):\n",
    "    genre_count[index] = [genre[0].title().replace(\"_\", \" \"), genre[1]]\n",
    "\n",
    "print(genre_count)\n"
   ]
  },
  {
   "cell_type": "markdown",
   "metadata": {},
   "source": [
    "def function to avoid repetitive code for all subplots."
   ]
  },
  {
   "cell_type": "code",
   "execution_count": 27,
   "metadata": {},
   "outputs": [],
   "source": [
    "def label (x, y, t):\n",
    "    \"\"\"\"\n",
    "    args:\n",
    "    x (str): x-axis title\n",
    "    y (str): y-axis title\n",
    "    t (str): main title\n",
    "    return:\n",
    "    none\n",
    "    \"\"\"\n",
    "    plt.xlabel(x)\n",
    "    plt.ylabel(y)\n",
    "    plt.title(t)\n",
    "    plt.show()"
   ]
  },
  {
   "cell_type": "code",
   "execution_count": 28,
   "metadata": {},
   "outputs": [
    {
     "data": {
      "image/png": "[encoded data removed]",
      "text/plain": [
       "<matplotlib.figure.Figure at 0x7fd66a5b99e8>"
      ]
     },
     "metadata": {
      "needs_background": "light"
     },
     "output_type": "display_data"
    }
   ],
   "source": [
    "plt.subplots(figsize=(15, 6))\n",
    "x, y = [*zip(*genre_count)]\n",
    "plt.bar(x, y, alpha=0.5)\n",
    "label('Genres', 'Number of Movies', 'Proportion of the Total Number of Movies in Each Genre')"
   ]
  },
  {
   "cell_type": "code",
   "execution_count": 29,
   "metadata": {},
   "outputs": [
    {
     "name": "stdout",
     "output_type": "stream",
     "text": [
      "[1960 1961 1962 1963 1964 1965 1966 1967 1968 1969 1970 1971 1972 1973 1974\n",
      " 1975 1976 1977 1978 1979 1980 1981 1982 1983 1984 1985 1986 1987 1988 1989\n",
      " 1990 1991 1992 1993 1994 1995 1996 1997 1998 1999 2000 2001 2002 2003 2004\n",
      " 2005 2006 2007 2008 2009 2010 2011 2012 2013 2014 2015]\n"
     ]
    }
   ],
   "source": [
    "years = df_imdb['release_year'].unique()\n",
    "years.sort()\n",
    "print(years)"
   ]
  },
  {
   "cell_type": "markdown",
   "metadata": {},
   "source": [
    "create a dataframe to store all of the results we need with rows for each calculation and columns for each genre."
   ]
  },
  {
   "cell_type": "code",
   "execution_count": 30,
   "metadata": {},
   "outputs": [],
   "source": [
    "result_rows = ['popularity_mean', 'budget_mean', 'revenue_mean']\n",
    "\n",
    "for year in years:\n",
    "    result_rows.append(str(year) + '_popularity')\n",
    "    result_rows.append(str(year) + '_budget')\n",
    "    result_rows.append(str(year) + '_revenue')\n",
    "    \n",
    "results_df = pd.DataFrame(index = result_rows, columns = genre_list)\n"
   ]
  },
  {
   "cell_type": "code",
   "execution_count": 31,
   "metadata": {},
   "outputs": [],
   "source": [
    "for genre in genre_list:\n",
    "    # Create the string to eval the dataframe of the current genre's movies.\n",
    "    genre_df = genre.lower().replace(' ', '_') + '_df'\n",
    "    \n",
    "    # Set the overall means for the vote_average, budget_adj, and the revenure_adj columns, and calculate the overall profit mean.\n",
    "    results_df.at['popularity_mean', str(genre)] = eval(genre_df)['popularity'].mean()\n",
    "    results_df.at['budget_mean', str(genre)] = eval(genre_df)['budget'].mean()\n",
    "    results_df.at['revenue_mean', str(genre)] = eval(genre_df)['revenue'].mean()\n",
    "    \n",
    "    # Set these four values for each year.\n",
    "    for year in years:\n",
    "        temp_year_df = eval(genre_df).loc[eval(genre_df)['release_year'] == year]\n",
    "        results_df.at[str(year) + '_popularity', str(genre)] = temp_year_df['popularity'].mean()\n",
    "        results_df.at[str(year) + '_budget', str(genre)] = temp_year_df['budget'].mean()\n",
    "        results_df.at[str(year) + '_revenue', str(genre)] = temp_year_df['revenue'].mean()\n"
   ]
  },
  {
   "cell_type": "markdown",
   "metadata": {},
   "source": [
    "Convert the results_df dtype from object to float. "
   ]
  },
  {
   "cell_type": "code",
   "execution_count": 32,
   "metadata": {},
   "outputs": [],
   "source": [
    "results_df = results_df.apply(pd.to_numeric, axis = 1, errors = 'coerce')"
   ]
  },
  {
   "cell_type": "code",
   "execution_count": 33,
   "metadata": {},
   "outputs": [
    {
     "data": {
      "text/html": [
       "<div>\n",
       "<style scoped>\n",
       "    .dataframe tbody tr th:only-of-type {\n",
       "        vertical-align: middle;\n",
       "    }\n",
       "\n",
       "    .dataframe tbody tr th {\n",
       "        vertical-align: top;\n",
       "    }\n",
       "\n",
       "    .dataframe thead th {\n",
       "        text-align: right;\n",
       "    }\n",
       "</style>\n",
       "<table border=\"1\" class=\"dataframe\">\n",
       "  <thead>\n",
       "    <tr style=\"text-align: right;\">\n",
       "      <th></th>\n",
       "      <th>Action</th>\n",
       "      <th>Adventure</th>\n",
       "      <th>Animation</th>\n",
       "      <th>Comedy</th>\n",
       "      <th>Crime</th>\n",
       "      <th>Documentary</th>\n",
       "      <th>Drama</th>\n",
       "      <th>Family</th>\n",
       "      <th>Fantasy</th>\n",
       "      <th>Foreign</th>\n",
       "      <th>History</th>\n",
       "      <th>Horror</th>\n",
       "      <th>Music</th>\n",
       "      <th>Mystery</th>\n",
       "      <th>Romance</th>\n",
       "      <th>Science Fiction</th>\n",
       "      <th>TV Movie</th>\n",
       "      <th>Thriller</th>\n",
       "      <th>War</th>\n",
       "      <th>Western</th>\n",
       "    </tr>\n",
       "  </thead>\n",
       "  <tbody>\n",
       "    <tr>\n",
       "      <th>popularity_mean</th>\n",
       "      <td>9.262744e-01</td>\n",
       "      <td>1.154259e+00</td>\n",
       "      <td>8.521817e-01</td>\n",
       "      <td>5.926073e-01</td>\n",
       "      <td>7.449304e-01</td>\n",
       "      <td>1.814316e-01</td>\n",
       "      <td>5.914953e-01</td>\n",
       "      <td>7.866684e-01</td>\n",
       "      <td>9.928397e-01</td>\n",
       "      <td>1.914963e-01</td>\n",
       "      <td>5.759359e-01</td>\n",
       "      <td>4.653566e-01</td>\n",
       "      <td>4.873212e-01</td>\n",
       "      <td>6.900121e-01</td>\n",
       "      <td>5.920820e-01</td>\n",
       "      <td>1.001548e+00</td>\n",
       "      <td>0.270896</td>\n",
       "      <td>7.415630e-01</td>\n",
       "      <td>7.276831e-01</td>\n",
       "      <td>5.906155e-01</td>\n",
       "    </tr>\n",
       "    <tr>\n",
       "      <th>budget_mean</th>\n",
       "      <td>2.772782e+07</td>\n",
       "      <td>3.754369e+07</td>\n",
       "      <td>2.315978e+07</td>\n",
       "      <td>1.329792e+07</td>\n",
       "      <td>1.766380e+07</td>\n",
       "      <td>5.771491e+05</td>\n",
       "      <td>1.188072e+07</td>\n",
       "      <td>2.335934e+07</td>\n",
       "      <td>3.261259e+07</td>\n",
       "      <td>1.451435e+06</td>\n",
       "      <td>1.859492e+07</td>\n",
       "      <td>6.226529e+06</td>\n",
       "      <td>9.438628e+06</td>\n",
       "      <td>1.611927e+07</td>\n",
       "      <td>1.253127e+07</td>\n",
       "      <td>2.497268e+07</td>\n",
       "      <td>267664.670659</td>\n",
       "      <td>1.720769e+07</td>\n",
       "      <td>2.089189e+07</td>\n",
       "      <td>1.897411e+07</td>\n",
       "    </tr>\n",
       "    <tr>\n",
       "      <th>revenue_mean</th>\n",
       "      <td>7.279473e+07</td>\n",
       "      <td>1.131379e+08</td>\n",
       "      <td>7.525606e+07</td>\n",
       "      <td>3.752624e+07</td>\n",
       "      <td>4.236866e+07</td>\n",
       "      <td>2.041107e+06</td>\n",
       "      <td>2.923226e+07</td>\n",
       "      <td>7.243318e+07</td>\n",
       "      <td>9.631366e+07</td>\n",
       "      <td>1.520460e+06</td>\n",
       "      <td>3.201179e+07</td>\n",
       "      <td>1.682281e+07</td>\n",
       "      <td>2.857177e+07</td>\n",
       "      <td>4.021757e+07</td>\n",
       "      <td>3.569197e+07</td>\n",
       "      <td>7.014056e+07</td>\n",
       "      <td>251497.005988</td>\n",
       "      <td>4.172842e+07</td>\n",
       "      <td>4.760518e+07</td>\n",
       "      <td>2.856871e+07</td>\n",
       "    </tr>\n",
       "    <tr>\n",
       "      <th>1960_popularity</th>\n",
       "      <td>5.907245e-01</td>\n",
       "      <td>7.009808e-01</td>\n",
       "      <td>NaN</td>\n",
       "      <td>3.960004e-01</td>\n",
       "      <td>3.464795e-01</td>\n",
       "      <td>NaN</td>\n",
       "      <td>5.663052e-01</td>\n",
       "      <td>2.780637e-01</td>\n",
       "      <td>4.282475e-01</td>\n",
       "      <td>1.949480e-01</td>\n",
       "      <td>4.123642e-01</td>\n",
       "      <td>5.914496e-01</td>\n",
       "      <td>4.235310e-01</td>\n",
       "      <td>NaN</td>\n",
       "      <td>5.412275e-01</td>\n",
       "      <td>3.279047e-01</td>\n",
       "      <td>NaN</td>\n",
       "      <td>8.119100e-01</td>\n",
       "      <td>2.258635e-01</td>\n",
       "      <td>5.677590e-01</td>\n",
       "    </tr>\n",
       "    <tr>\n",
       "      <th>1960_budget</th>\n",
       "      <td>1.750000e+06</td>\n",
       "      <td>5.500000e+05</td>\n",
       "      <td>NaN</td>\n",
       "      <td>7.537500e+05</td>\n",
       "      <td>0.000000e+00</td>\n",
       "      <td>NaN</td>\n",
       "      <td>1.215919e+06</td>\n",
       "      <td>0.000000e+00</td>\n",
       "      <td>3.750000e+05</td>\n",
       "      <td>0.000000e+00</td>\n",
       "      <td>2.400000e+06</td>\n",
       "      <td>1.824211e+05</td>\n",
       "      <td>0.000000e+00</td>\n",
       "      <td>NaN</td>\n",
       "      <td>1.125000e+06</td>\n",
       "      <td>3.166667e+05</td>\n",
       "      <td>NaN</td>\n",
       "      <td>3.044913e+05</td>\n",
       "      <td>0.000000e+00</td>\n",
       "      <td>3.333333e+05</td>\n",
       "    </tr>\n",
       "  </tbody>\n",
       "</table>\n",
       "</div>"
      ],
      "text/plain": [
       "                       Action     Adventure     Animation        Comedy  \\\n",
       "popularity_mean  9.262744e-01  1.154259e+00  8.521817e-01  5.926073e-01   \n",
       "budget_mean      2.772782e+07  3.754369e+07  2.315978e+07  1.329792e+07   \n",
       "revenue_mean     7.279473e+07  1.131379e+08  7.525606e+07  3.752624e+07   \n",
       "1960_popularity  5.907245e-01  7.009808e-01           NaN  3.960004e-01   \n",
       "1960_budget      1.750000e+06  5.500000e+05           NaN  7.537500e+05   \n",
       "\n",
       "                        Crime   Documentary         Drama        Family  \\\n",
       "popularity_mean  7.449304e-01  1.814316e-01  5.914953e-01  7.866684e-01   \n",
       "budget_mean      1.766380e+07  5.771491e+05  1.188072e+07  2.335934e+07   \n",
       "revenue_mean     4.236866e+07  2.041107e+06  2.923226e+07  7.243318e+07   \n",
       "1960_popularity  3.464795e-01           NaN  5.663052e-01  2.780637e-01   \n",
       "1960_budget      0.000000e+00           NaN  1.215919e+06  0.000000e+00   \n",
       "\n",
       "                      Fantasy       Foreign       History        Horror  \\\n",
       "popularity_mean  9.928397e-01  1.914963e-01  5.759359e-01  4.653566e-01   \n",
       "budget_mean      3.261259e+07  1.451435e+06  1.859492e+07  6.226529e+06   \n",
       "revenue_mean     9.631366e+07  1.520460e+06  3.201179e+07  1.682281e+07   \n",
       "1960_popularity  4.282475e-01  1.949480e-01  4.123642e-01  5.914496e-01   \n",
       "1960_budget      3.750000e+05  0.000000e+00  2.400000e+06  1.824211e+05   \n",
       "\n",
       "                        Music       Mystery       Romance  Science Fiction  \\\n",
       "popularity_mean  4.873212e-01  6.900121e-01  5.920820e-01     1.001548e+00   \n",
       "budget_mean      9.438628e+06  1.611927e+07  1.253127e+07     2.497268e+07   \n",
       "revenue_mean     2.857177e+07  4.021757e+07  3.569197e+07     7.014056e+07   \n",
       "1960_popularity  4.235310e-01           NaN  5.412275e-01     3.279047e-01   \n",
       "1960_budget      0.000000e+00           NaN  1.125000e+06     3.166667e+05   \n",
       "\n",
       "                      TV Movie      Thriller           War       Western  \n",
       "popularity_mean       0.270896  7.415630e-01  7.276831e-01  5.906155e-01  \n",
       "budget_mean      267664.670659  1.720769e+07  2.089189e+07  1.897411e+07  \n",
       "revenue_mean     251497.005988  4.172842e+07  4.760518e+07  2.856871e+07  \n",
       "1960_popularity            NaN  8.119100e-01  2.258635e-01  5.677590e-01  \n",
       "1960_budget                NaN  3.044913e+05  0.000000e+00  3.333333e+05  "
      ]
     },
     "execution_count": 33,
     "metadata": {},
     "output_type": "execute_result"
    }
   ],
   "source": [
    "results_df.head()"
   ]
  },
  {
   "cell_type": "markdown",
   "metadata": {},
   "source": [
    "We can now use these results to find out which genre was the most popular in each year by the mean popularity average."
   ]
  },
  {
   "cell_type": "code",
   "execution_count": 34,
   "metadata": {},
   "outputs": [],
   "source": [
    "results_max = results_df.idxmax(axis = 1)"
   ]
  },
  {
   "cell_type": "code",
   "execution_count": 35,
   "metadata": {},
   "outputs": [
    {
     "name": "stdout",
     "output_type": "stream",
     "text": [
      "popularity_mean          Adventure\n",
      "1960_popularity           Thriller\n",
      "1961_popularity          Animation\n",
      "1962_popularity          Adventure\n",
      "1963_popularity          Animation\n",
      "1964_popularity                War\n",
      "1965_popularity              Music\n",
      "1966_popularity          Animation\n",
      "1967_popularity          Animation\n",
      "1968_popularity            Mystery\n",
      "1969_popularity              Crime\n",
      "1970_popularity          Animation\n",
      "1971_popularity             Family\n",
      "1972_popularity              Crime\n",
      "1973_popularity          Animation\n",
      "1974_popularity            Mystery\n",
      "1975_popularity          Adventure\n",
      "1976_popularity              Crime\n",
      "1977_popularity             Action\n",
      "1978_popularity              Music\n",
      "1979_popularity             Action\n",
      "1980_popularity    Science Fiction\n",
      "1981_popularity          Adventure\n",
      "1982_popularity                War\n",
      "1983_popularity          Adventure\n",
      "1984_popularity             Family\n",
      "1985_popularity             Family\n",
      "1986_popularity          Adventure\n",
      "1987_popularity            History\n",
      "1988_popularity             Action\n",
      "1989_popularity          Animation\n",
      "1990_popularity          Adventure\n",
      "1991_popularity          Animation\n",
      "1992_popularity          Animation\n",
      "1993_popularity            Fantasy\n",
      "1994_popularity              Crime\n",
      "1995_popularity          Animation\n",
      "1996_popularity              Crime\n",
      "1997_popularity    Science Fiction\n",
      "1998_popularity                War\n",
      "1999_popularity          Adventure\n",
      "2000_popularity          Adventure\n",
      "2001_popularity            Fantasy\n",
      "2002_popularity            Fantasy\n",
      "2003_popularity            Fantasy\n",
      "2004_popularity            Fantasy\n",
      "2005_popularity            Fantasy\n",
      "2006_popularity            Fantasy\n",
      "2007_popularity            Fantasy\n",
      "2008_popularity          Adventure\n",
      "2009_popularity          Adventure\n",
      "2010_popularity          Adventure\n",
      "2011_popularity            Western\n",
      "2012_popularity            Western\n",
      "2013_popularity          Adventure\n",
      "2014_popularity          Adventure\n",
      "2015_popularity          Adventure\n",
      "dtype: object\n"
     ]
    }
   ],
   "source": [
    "popularity_average_max = results_max[0::3]\n",
    "budget_average_max = results_max[1::3]\n",
    "revenue_average_max = results_max[2::3]\n",
    "print(popularity_average_max)"
   ]
  },
  {
   "cell_type": "code",
   "execution_count": 36,
   "metadata": {},
   "outputs": [
    {
     "data": {
      "image/png": "[encoded data removed]",
      "text/plain": [
       "<matplotlib.figure.Figure at 0x7fd669f08b38>"
      ]
     },
     "metadata": {
      "needs_background": "light"
     },
     "output_type": "display_data"
    }
   ],
   "source": [
    "# Use [1:] to avoid counting the overall mean in the graphs.\n",
    "plt.subplots(figsize=(15, 6))\n",
    "vote_x = popularity_average_max[1:].value_counts().index.values.tolist()\n",
    "vote_y = popularity_average_max[1:].value_counts().tolist()\n",
    "plt.bar(vote_x, vote_y, alpha=0.5)\n",
    "label('Movie popularity', 'Number of Years', 'Number of Years Genres Have the Highest popularity Average')"
   ]
  },
  {
   "cell_type": "markdown",
   "metadata": {},
   "source": [
    "### Research Question 2  (What kinds of properties are associated with movies that have high revenues?)"
   ]
  },
  {
   "cell_type": "code",
   "execution_count": 37,
   "metadata": {},
   "outputs": [
    {
     "name": "stdout",
     "output_type": "stream",
     "text": [
      "budget_mean    Adventure\n",
      "1960_budget      History\n",
      "1961_budget    Animation\n",
      "1962_budget          War\n",
      "1963_budget      History\n",
      "1964_budget       Family\n",
      "1965_budget      History\n",
      "1966_budget          War\n",
      "1967_budget          War\n",
      "1968_budget    Adventure\n",
      "1969_budget      History\n",
      "1970_budget      Foreign\n",
      "1971_budget    Animation\n",
      "1972_budget      Fantasy\n",
      "1973_budget    Animation\n",
      "1974_budget       Action\n",
      "1975_budget      Romance\n",
      "1976_budget       Family\n",
      "1977_budget          War\n",
      "1978_budget      Fantasy\n",
      "1979_budget       Action\n",
      "1980_budget        Music\n",
      "1981_budget          War\n",
      "1982_budget      History\n",
      "1983_budget      History\n",
      "1984_budget    Adventure\n",
      "1985_budget          War\n",
      "1986_budget      Western\n",
      "1987_budget      History\n",
      "1988_budget      Foreign\n",
      "1989_budget    Adventure\n",
      "1990_budget    Adventure\n",
      "1991_budget      History\n",
      "1992_budget      History\n",
      "1993_budget      Western\n",
      "1994_budget          War\n",
      "1995_budget       Action\n",
      "1996_budget    Adventure\n",
      "1997_budget          War\n",
      "1998_budget      Western\n",
      "1999_budget    Adventure\n",
      "2000_budget      Western\n",
      "2001_budget       Action\n",
      "2002_budget      Western\n",
      "2003_budget    Adventure\n",
      "2004_budget          War\n",
      "2005_budget          War\n",
      "2006_budget    Adventure\n",
      "2007_budget      Fantasy\n",
      "2008_budget    Adventure\n",
      "2009_budget    Adventure\n",
      "2010_budget      Western\n",
      "2011_budget      Western\n",
      "2012_budget    Adventure\n",
      "2013_budget      Western\n",
      "2014_budget    Adventure\n",
      "2015_budget    Adventure\n",
      "dtype: object\n"
     ]
    }
   ],
   "source": [
    "print(budget_average_max)"
   ]
  },
  {
   "cell_type": "code",
   "execution_count": 38,
   "metadata": {},
   "outputs": [
    {
     "data": {
      "image/png": "[encoded data removed]",
      "text/plain": [
       "<matplotlib.figure.Figure at 0x7fd669e6a780>"
      ]
     },
     "metadata": {
      "needs_background": "light"
     },
     "output_type": "display_data"
    }
   ],
   "source": [
    "# Use [1:] to avoid counting the overall mean in the graphs.\n",
    "plt.subplots(figsize=(15, 6))\n",
    "profit_x = budget_average_max[1:].value_counts().index.values.tolist()\n",
    "profit_y = budget_average_max[1:].value_counts().tolist()\n",
    "plt.bar(profit_x, profit_y, alpha=0.5)\n",
    "label('Movie Genres', 'Number of Years', 'Number of Years Genres Have the Highest budget average')"
   ]
  },
  {
   "cell_type": "code",
   "execution_count": 39,
   "metadata": {},
   "outputs": [
    {
     "data": {
      "image/png": "[encoded data removed]",
      "text/plain": [
       "<matplotlib.figure.Figure at 0x7fd669e83be0>"
      ]
     },
     "metadata": {
      "needs_background": "light"
     },
     "output_type": "display_data"
    }
   ],
   "source": [
    "plt.subplots(figsize=(15, 6))\n",
    "plt.scatter(df_imdb['revenue'], df_imdb['popularity'], alpha=0.5)\n",
    "label('revenue', 'popularity', 'revenue and popularity')"
   ]
  },
  {
   "cell_type": "code",
   "execution_count": 40,
   "metadata": {},
   "outputs": [
    {
     "data": {
      "image/png": "[encoded data removed]",
      "text/plain": [
       "<matplotlib.figure.Figure at 0x7fd669ddf320>"
      ]
     },
     "metadata": {
      "needs_background": "light"
     },
     "output_type": "display_data"
    }
   ],
   "source": [
    "plt.subplots(figsize=(15, 6))\n",
    "plt.scatter(df_imdb['revenue'], df_imdb['budget'], alpha=0.5)\n",
    "label('revenue', 'budget', 'revenue and budget')"
   ]
  },
  {
   "cell_type": "markdown",
   "metadata": {},
   "source": [
    "From this scatter plot and line of best fit, we can see that a higher revenue does have a slight correlation with a higher budget, but the absolute highest budget movies have lower revenue."
   ]
  },
  {
   "cell_type": "code",
   "execution_count": 41,
   "metadata": {},
   "outputs": [
    {
     "data": {
      "image/png": "[encoded data removed]",
      "text/plain": [
       "<matplotlib.figure.Figure at 0x7fd669d96e80>"
      ]
     },
     "metadata": {
      "needs_background": "light"
     },
     "output_type": "display_data"
    }
   ],
   "source": [
    "plt.subplots(figsize=(15, 6))\n",
    "plt.scatter(df_imdb['revenue'], df_imdb['vote_average'], alpha=0.5)\n",
    "label('revenue', 'vote_average', 'revenue and vote_average')"
   ]
  },
  {
   "cell_type": "markdown",
   "metadata": {},
   "source": [
    "From this scatter plot and line of best fit, we can see that a higher revenue does have a slight correlation with a higher vote_average, but the absolute highest rated movies have lower revenue."
   ]
  },
  {
   "cell_type": "markdown",
   "metadata": {},
   "source": [
    "# Conclusions\n",
    "This report has analyzed the The Movie Database (TMDb) to determine the answers to these two questions.\n",
    "\n",
    "Which genres are most popular from year to year?\n",
    "What kinds of properties are associated with movies that have high revenues?\n",
    "The most highly rated movie genre by year varied, but the Fantasy genre was the genre that had the highest average popularity rating across the most years. This may be because Fantasy are more serious productions that tend to be polished and because less of them are produced.\n",
    "\n",
    "Finally, a higher average budget does appear to have a very slight association with a higher average vote rating, but more statistical analysis will need to be performed to prove anything. Additionally, the highest and lowest vote ratings of all the dataset were with lower budget movies.\n",
    "\n",
    "With this information it can be determined that in order to make a more successful movie measured by popularity ratings, one should make a Fantasy with the highest budget possible, and that to make a more successful movie by revenue, one should make adventure movies with higher budgets when able.\n",
    "\n",
    "## limitathion\n",
    "Certain columns, like ‘cast’ and ‘genres’, contain multiple values separated by pipe (|) characters. report is hard To explore the genres, we need to divide the movies into groups based on genres that there are 2,039 different combinations of genres in this dataset;\n",
    "\n",
    "# Submitting your Project\n",
    "Tip: Before you submit your project, you need to create a .html or .pdf version of this notebook in the workspace here. To do that, run the code cell below. If it worked correctly, you should get a return code of 0, and you should see the generated .html file in the workspace directory (click on the orange Jupyter icon in the upper left).\n",
    "\n",
    "Tip: Alternatively, you can download this report as .html via the File > Download as submenu, and then manually upload it into the workspace directory by clicking on the orange Jupyter icon in the upper left, then using the Upload button.\n",
    "\n",
    "Tip: Once you've done this, you can submit your project by clicking on the \"Submit Project\" button in the lower right here. This will create and submit a zip file with this .ipynb doc and the .html or .pdf version you created. Congratulations!\n",
    "\n"
   ]
  },
  {
   "cell_type": "code",
   "execution_count": null,
   "metadata": {},
   "outputs": [],
   "source": []
  },
  {
   "cell_type": "code",
   "execution_count": 42,
   "metadata": {},
   "outputs": [
    {
     "data": {
      "text/plain": [
       "0"
      ]
     },
     "execution_count": 42,
     "metadata": {},
     "output_type": "execute_result"
    }
   ],
   "source": [
    "from subprocess import call\n",
    "call(['python', '-m', 'nbconvert', 'Investigate_a_Dataset.ipynb'])"
   ]
  },
  {
   "cell_type": "code",
   "execution_count": null,
   "metadata": {},
   "outputs": [],
   "source": []
  }
 ],
 "metadata": {
  "kernelspec": {
   "display_name": "Python 3",
   "language": "python",
   "name": "python3"
  },
  "language_info": {
   "codemirror_mode": {
    "name": "ipython",
    "version": 3
   },
   "file_extension": ".py",
   "mimetype": "text/x-python",
   "name": "python",
   "nbconvert_exporter": "python",
   "pygments_lexer": "ipython3",
   "version": "3.6.3"
  }
 },
 "nbformat": 4,
 "nbformat_minor": 2
}
